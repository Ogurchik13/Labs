{
 "cells": [
  {
   "cell_type": "code",
   "execution_count": 1,
   "id": "4cb460f8-24df-4d8e-b8e3-51bcb74b80bb",
   "metadata": {
    "tags": []
   },
   "outputs": [],
   "source": [
    "import findspark\n",
    "findspark.init()"
   ]
  },
  {
   "cell_type": "code",
   "execution_count": 6,
   "id": "84505cd2-13cc-429f-8aca-0aaa29407e6a",
   "metadata": {},
   "outputs": [],
   "source": [
    "from os.path import abspath\n",
    "import pyspark\n",
    "from pyspark.sql import SparkSession"
   ]
  },
  {
   "cell_type": "code",
   "execution_count": 12,
   "id": "d79c014c-c3de-4ac0-a6dd-9a3a66de698d",
   "metadata": {
    "tags": []
   },
   "outputs": [],
   "source": [
    "warehouse_location = abspath('spark-warehouse')"
   ]
  },
  {
   "cell_type": "code",
   "execution_count": 11,
   "id": "bf5dcc98-77d0-464f-a37e-31143f329058",
   "metadata": {
    "tags": []
   },
   "outputs": [],
   "source": [
    "spark = SparkSession.builder.appName(\"Test\") \\\n",
    "    .config(\"spark.memory.offHeap.enabled\",\"true\") \\\n",
    "    .config(\"spark.memory.offHeap.size\",\"10g\") \\\n",
    "    .config(\"spark.sql.warehouse.dir\", warehouse_location) \\\n",
    "    .config(\"spark.eventLog.enabled\", \"true\") \\\n",
    "    .getOrCreate()"
   ]
  },
  {
   "cell_type": "code",
   "execution_count": 9,
   "id": "ec55c289-a83e-4c27-ab2c-c26bb52a07d7",
   "metadata": {
    "tags": []
   },
   "outputs": [],
   "source": [
    "data = [(i, f\"He has {i} apples\")for i in range(6)]"
   ]
  },
  {
   "cell_type": "code",
   "execution_count": 10,
   "id": "9359f439-b48e-48dd-be1a-c8132e658177",
   "metadata": {
    "tags": []
   },
   "outputs": [
    {
     "data": {
      "text/plain": [
       "DataFrame[id: bigint, Apple: string]"
      ]
     },
     "execution_count": 10,
     "metadata": {},
     "output_type": "execute_result"
    }
   ],
   "source": [
    "spark.createDataFrame(data, schema=[\"id\", \"Apple\"])"
   ]
  },
  {
   "cell_type": "code",
   "execution_count": null,
   "id": "50107c6f-53b4-4a10-91ee-9734a9439701",
   "metadata": {},
   "outputs": [],
   "source": []
  }
 ],
 "metadata": {
  "kernelspec": {
   "display_name": "Python 3 (ipykernel)",
   "language": "python",
   "name": "python3"
  },
  "language_info": {
   "codemirror_mode": {
    "name": "ipython",
    "version": 3
   },
   "file_extension": ".py",
   "mimetype": "text/x-python",
   "name": "python",
   "nbconvert_exporter": "python",
   "pygments_lexer": "ipython3",
   "version": "3.10.10"
  }
 },
 "nbformat": 4,
 "nbformat_minor": 5
}
